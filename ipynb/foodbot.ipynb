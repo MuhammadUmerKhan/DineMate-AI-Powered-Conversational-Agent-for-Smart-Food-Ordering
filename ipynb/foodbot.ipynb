{
  "cells": [
    {
      "cell_type": "code",
      "execution_count": 1,
      "metadata": {
        "id": "zQZbVqreofBA"
      },
      "outputs": [],
      "source": [
        "import os\n",
        "import json\n",
        "import datetime\n",
        "import logging\n",
        "from dotenv import load_dotenv\n",
        "from langchain_groq import ChatGroq\n",
        "from typing import Annotated\n",
        "from typing_extensions import TypedDict\n",
        "from langgraph.graph import StateGraph, START, END\n",
        "from langgraph.graph.message import add_messages\n",
        "from langchain_core.messages import ToolMessage\n",
        "from langchain.tools import Tool\n",
        "from order_handler import OrderHandler\n",
        "from db import Database\n",
        "from IPython.display import Image, display\n",
        "from config import GROK_API_KEY"
      ]
    },
    {
      "cell_type": "code",
      "execution_count": 2,
      "metadata": {},
      "outputs": [
        {
          "data": {
            "text/plain": [
              "True"
            ]
          },
          "execution_count": 2,
          "metadata": {},
          "output_type": "execute_result"
        }
      ],
      "source": [
        "# ✅ Load environment variables\n",
        "load_dotenv()"
      ]
    },
    {
      "cell_type": "code",
      "execution_count": 3,
      "metadata": {
        "id": "m1l1qbX4xuHk"
      },
      "outputs": [],
      "source": [
        "# ✅ Initialize the LLM\n",
        "llm = ChatGroq(\n",
        "    temperature=0.3,\n",
        "    groq_api_key=GROK_API_KEY,\n",
        "    model_name=\"qwen-2.5-32b\"\n",
        ")"
      ]
    },
    {
      "cell_type": "code",
      "execution_count": 4,
      "metadata": {},
      "outputs": [],
      "source": [
        "# ✅ Define a TypedDict to store chat messages\n",
        "class State(TypedDict):\n",
        "    messages: Annotated[list, add_messages]"
      ]
    },
    {
      "cell_type": "code",
      "execution_count": 85,
      "metadata": {
        "id": "1TIWQhzDyqqn"
      },
      "outputs": [],
      "source": [
        "# ✅ Define the functions for each tool\n",
        "def show_menu(_=None):\n",
        "    \"\"\"Fetch and display the menu items.\"\"\"\n",
        "    menu = OrderHandler().fetch_menu()\n",
        "    if not menu:\n",
        "        return \"Sorry, the menu is currently unavailable.\"\n",
        "    \n",
        "    return f\"{menu}\""
      ]
    },
    {
      "cell_type": "code",
      "execution_count": 86,
      "metadata": {},
      "outputs": [
        {
          "data": {
            "text/plain": [
              "\"{'Cheese Burger': 5.99, 'Chicken Burger': 6.99, 'Veggie Burger': 5.49, 'Pepperoni Pizza': 12.99, 'Margherita Pizza': 11.49, 'BBQ Chicken Pizza': 13.99, 'Grilled Chicken Sandwich': 7.99, 'Club Sandwich': 6.99, 'Spaghetti Carbonara': 9.99, 'Fettuccine Alfredo': 10.49, 'Tandoori Chicken': 11.99, 'Butter Chicken': 12.49, 'Beef Steak': 15.99, 'Chicken Biryani': 8.99, 'Mutton Biryani': 10.99, 'Prawn Curry': 13.49, 'Fish and Chips': 9.49, 'French Fries': 3.99, 'Garlic Bread': 4.49, 'Chocolate Brownie': 5.49, 'Vanilla Ice Cream': 3.99, 'Strawberry Shake': 4.99, 'Mango Smoothie': 5.49, 'Coca-Cola': 2.49, 'Pepsi': 2.49, 'Fresh Orange Juice': 4.99}\""
            ]
          },
          "execution_count": 86,
          "metadata": {},
          "output_type": "execute_result"
        }
      ],
      "source": [
        "show_menu()"
      ]
    },
    {
      "cell_type": "code",
      "execution_count": 7,
      "metadata": {
        "id": "tZCyDxtwyGAx"
      },
      "outputs": [],
      "source": [
        "# ✅ Define tools with descriptions\n",
        "tools = [\n",
        "    Tool(name=\"Show Menu\", func=show_menu, description=\"Fetch and display the menu items.\"),\n",
        "]"
      ]
    },
    {
      "cell_type": "code",
      "execution_count": 8,
      "metadata": {},
      "outputs": [],
      "source": [
        "# ✅ Define Tool Execution Class\n",
        "class ToolExecutor:\n",
        "    \"\"\"Handles tool execution when called by the LLM.\"\"\"\n",
        "    \n",
        "    def __init__(self, tools: list):\n",
        "        self.tools_by_name = {tool.name: tool for tool in tools}\n",
        "    \n",
        "    def __call__(self, state: State):\n",
        "        messages = state.get(\"messages\", [])\n",
        "        last_message = messages[-1] if messages else None\n",
        "        \n",
        "        if not last_message or not hasattr(last_message, \"tool_calls\"):\n",
        "            return {\"messages\": messages}\n",
        "        \n",
        "        tool_results = []\n",
        "        for tool_call in last_message.tool_calls:\n",
        "            tool_name = tool_call[\"name\"]\n",
        "            tool_args = tool_call[\"args\"]\n",
        "            \n",
        "            if tool_name in self.tools_by_name:\n",
        "                tool_result = self.tools_by_name[tool_name].invoke(tool_args)\n",
        "                tool_results.append(ToolMessage(\n",
        "                    content=json.dumps(tool_result),\n",
        "                    tool=tool_name,\n",
        "                    tool_call_id=tool_call[\"id\"]\n",
        "                ))\n",
        "        \n",
        "        return {\"messages\": messages + tool_results}"
      ]
    },
    {
      "cell_type": "code",
      "execution_count": 9,
      "metadata": {},
      "outputs": [],
      "source": [
        "# ✅ Define Routing Function\n",
        "def route_tools(state: State):\n",
        "    \"\"\"Routes the flow based on whether tools are required.\"\"\"\n",
        "    messages = state.get(\"messages\", [])\n",
        "    \n",
        "    if messages and hasattr(messages[-1], \"tool_calls\") and messages[-1].tool_calls:\n",
        "        return \"tools\"\n",
        "    \n",
        "    return END"
      ]
    },
    {
      "cell_type": "code",
      "execution_count": 10,
      "metadata": {},
      "outputs": [],
      "source": [
        "# ✅ Build the LangGraph Chatbot Flow\n",
        "graph_builder = StateGraph(State)\n",
        "llm_with_tools = llm.bind_tools(tools)"
      ]
    },
    {
      "cell_type": "code",
      "execution_count": 11,
      "metadata": {},
      "outputs": [],
      "source": [
        "def chatbot(state: State):\n",
        "    \"\"\"Handles AI response and tool calling.\"\"\"\n",
        "    ai_response = llm_with_tools.invoke(state[\"messages\"])\n",
        "    return {\"messages\": [ai_response]}"
      ]
    },
    {
      "cell_type": "code",
      "execution_count": 12,
      "metadata": {},
      "outputs": [],
      "source": [
        "# ✅ Add nodes to the graph\n",
        "graph_builder.add_node(\"chatbot\", chatbot)\n",
        "graph_builder.add_node(\"tools\", ToolExecutor(tools))\n",
        "\n",
        "# ✅ Define edges (flow)\n",
        "graph_builder.add_conditional_edges(\"chatbot\", route_tools, {\"tools\": \"tools\", END: END})\n",
        "graph_builder.add_edge(\"tools\", \"chatbot\")  # Return to chatbot after tool execution\n",
        "graph_builder.add_edge(START, \"chatbot\")\n",
        "\n",
        "# ✅ Compile the graph\n",
        "graph = graph_builder.compile()"
      ]
    },
    {
      "cell_type": "code",
      "execution_count": 13,
      "metadata": {},
      "outputs": [],
      "source": [
        "# ✅ Function to Stream Responses\n",
        "def stream_graph_updates(user_input: str):\n",
        "    \"\"\"Streams chatbot responses from LangGraph.\"\"\"\n",
        "    for event in graph.stream({\"messages\": [{\"role\": \"user\", \"content\": user_input}]}):\n",
        "        for value in event.values():\n",
        "            print(\"Assistant:\", value[\"messages\"][-1].content)"
      ]
    },
    {
      "cell_type": "code",
      "execution_count": 38,
      "metadata": {},
      "outputs": [
        {
          "data": {
            "text/plain": [
              "\"Here's our menu:\\nCheese Burger - $5.99\\nChicken Burger - $6.99\\nVeggie Burger - $5.49\\nPepperoni Pizza - $12.99\\nMargherita Pizza - $11.49\\nBBQ Chicken Pizza - $13.99\\nGrilled Chicken Sandwich - $7.99\\nClub Sandwich - $6.99\\nSpaghetti Carbonara - $9.99\\nFettuccine Alfredo - $10.49\\nTandoori Chicken - $11.99\\nButter Chicken - $12.49\\nBeef Steak - $15.99\\nChicken Biryani - $8.99\\nMutton Biryani - $10.99\\nPrawn Curry - $13.49\\nFish and Chips - $9.49\\nFrench Fries - $3.99\\nGarlic Bread - $4.49\\nChocolate Brownie - $5.49\\nVanilla Ice Cream - $3.99\\nStrawberry Shake - $4.99\\nMango Smoothie - $5.49\\nCoca-Cola - $2.49\\nPepsi - $2.49\\nFresh Orange Juice - $4.99\""
            ]
          },
          "execution_count": 38,
          "metadata": {},
          "output_type": "execute_result"
        }
      ],
      "source": [
        "show_menu()"
      ]
    },
    {
      "cell_type": "code",
      "execution_count": 14,
      "metadata": {},
      "outputs": [
        {
          "name": "stdout",
          "output_type": "stream",
          "text": [
            "Assistant: \n",
            "Assistant: \"Here's our menu:\\nCheese Burger - $5.99\\nChicken Burger - $6.99\\nVeggie Burger - $5.49\\nPepperoni Pizza - $12.99\\nMargherita Pizza - $11.49\\nBBQ Chicken Pizza - $13.99\\nGrilled Chicken Sandwich - $7.99\\nClub Sandwich - $6.99\\nSpaghetti Carbonara - $9.99\\nFettuccine Alfredo - $10.49\\nTandoori Chicken - $11.99\\nButter Chicken - $12.49\\nBeef Steak - $15.99\\nChicken Biryani - $8.99\\nMutton Biryani - $10.99\\nPrawn Curry - $13.49\\nFish and Chips - $9.49\\nFrench Fries - $3.99\\nGarlic Bread - $4.49\\nChocolate Brownie - $5.49\\nVanilla Ice Cream - $3.99\\nStrawberry Shake - $4.99\\nMango Smoothie - $5.49\\nCoca-Cola - $2.49\\nPepsi - $2.49\\nFresh Orange Juice - $4.99\"\n",
            "Assistant: Here's our menu:\n",
            "\n",
            "- Cheese Burger - $5.99\n",
            "- Chicken Burger - $6.99\n",
            "- Veggie Burger - $5.49\n",
            "- Pepperoni Pizza - $12.99\n",
            "- Margherita Pizza - $11.49\n",
            "- BBQ Chicken Pizza - $13.99\n",
            "- Grilled Chicken Sandwich - $7.99\n",
            "- Club Sandwich - $6.99\n",
            "- Spaghetti Carbonara - $9.99\n",
            "- Fettuccine Alfredo - $10.49\n",
            "- Tandoori Chicken - $11.99\n",
            "- Butter Chicken - $12.49\n",
            "- Beef Steak - $15.99\n",
            "- Chicken Biryani - $8.99\n",
            "- Mutton Biryani - $10.99\n",
            "- Prawn Curry - $13.49\n",
            "- Fish and Chips - $9.49\n",
            "- French Fries - $3.99\n",
            "- Garlic Bread - $4.49\n",
            "- Chocolate Brownie - $5.49\n",
            "- Vanilla Ice Cream - $3.99\n",
            "- Strawberry Shake - $4.99\n",
            "- Mango Smoothie - $5.49\n",
            "- Coca-Cola - $2.49\n",
            "- Pepsi - $2.49\n",
            "- Fresh Orange Juice - $4.99\n",
            "\n",
            "Enjoy your meal!\n"
          ]
        }
      ],
      "source": [
        "stream_graph_updates(\"menu\")"
      ]
    },
    {
      "cell_type": "code",
      "execution_count": 15,
      "metadata": {},
      "outputs": [
        {
          "name": "stdout",
          "output_type": "stream",
          "text": [
            "\n",
            "🤖 Chatbot is ready! Type 'exit', 'quit', or 'bye' to stop.\n",
            "\n",
            "Assistant: Hello! How can I assist you today?\n",
            "Assistant: \n",
            "Assistant: \"Here's our menu:\\nCheese Burger - $5.99\\nChicken Burger - $6.99\\nVeggie Burger - $5.49\\nPepperoni Pizza - $12.99\\nMargherita Pizza - $11.49\\nBBQ Chicken Pizza - $13.99\\nGrilled Chicken Sandwich - $7.99\\nClub Sandwich - $6.99\\nSpaghetti Carbonara - $9.99\\nFettuccine Alfredo - $10.49\\nTandoori Chicken - $11.99\\nButter Chicken - $12.49\\nBeef Steak - $15.99\\nChicken Biryani - $8.99\\nMutton Biryani - $10.99\\nPrawn Curry - $13.49\\nFish and Chips - $9.49\\nFrench Fries - $3.99\\nGarlic Bread - $4.49\\nChocolate Brownie - $5.49\\nVanilla Ice Cream - $3.99\\nStrawberry Shake - $4.99\\nMango Smoothie - $5.49\\nCoca-Cola - $2.49\\nPepsi - $2.49\\nFresh Orange Juice - $4.99\"\n",
            "Assistant: Here's our menu:\n",
            "\n",
            "- Cheese Burger - $5.99\n",
            "- Chicken Burger - $6.99\n",
            "- Veggie Burger - $5.49\n",
            "- Pepperoni Pizza - $12.99\n",
            "- Margherita Pizza - $11.49\n",
            "- BBQ Chicken Pizza - $13.99\n",
            "- Grilled Chicken Sandwich - $7.99\n",
            "- Club Sandwich - $6.99\n",
            "- Spaghetti Carbonara - $9.99\n",
            "- Fettuccine Alfredo - $10.49\n",
            "- Tandoori Chicken - $11.99\n",
            "- Butter Chicken - $12.49\n",
            "- Beef Steak - $15.99\n",
            "- Chicken Biryani - $8.99\n",
            "- Mutton Biryani - $10.99\n",
            "- Prawn Curry - $13.49\n",
            "- Fish and Chips - $9.49\n",
            "- French Fries - $3.99\n",
            "- Garlic Bread - $4.49\n",
            "- Chocolate Brownie - $5.49\n",
            "- Vanilla Ice Cream - $3.99\n",
            "- Strawberry Shake - $4.99\n",
            "- Mango Smoothie - $5.49\n",
            "- Coca-Cola - $2.49\n",
            "- Pepsi - $2.49\n",
            "- Fresh Orange Juice - $4.99\n",
            "\n",
            "Enjoy your meal!\n",
            "Goodbye!\n"
          ]
        }
      ],
      "source": [
        "# ✅ Start Chatbot Loop\n",
        "print(\"\\n🤖 Chatbot is ready! Type 'exit', 'quit', or 'bye' to stop.\\n\")\n",
        "\n",
        "while True:\n",
        "    try:\n",
        "        user_input = input(\"You: \")\n",
        "        if user_input.lower() in [\"quit\", \"exit\", \"q\"]:\n",
        "            print(\"Goodbye!\")\n",
        "            break\n",
        "        stream_graph_updates(user_input)\n",
        "    except Exception as e:\n",
        "        print(\"Error:\", str(e))"
      ]
    },
    {
      "cell_type": "code",
      "execution_count": 112,
      "metadata": {},
      "outputs": [],
      "source": [
        "menu = show_menu()"
      ]
    },
    {
      "cell_type": "code",
      "execution_count": 114,
      "metadata": {},
      "outputs": [
        {
          "data": {
            "text/plain": [
              "\"{'Cheese Burger': 5.99, 'Chicken Burger': 6.99, 'Veggie Burger': 5.49, 'Pepperoni Pizza': 12.99, 'Margherita Pizza': 11.49, 'BBQ Chicken Pizza': 13.99, 'Grilled Chicken Sandwich': 7.99, 'Club Sandwich': 6.99, 'Spaghetti Carbonara': 9.99, 'Fettuccine Alfredo': 10.49, 'Tandoori Chicken': 11.99, 'Butter Chicken': 12.49, 'Beef Steak': 15.99, 'Chicken Biryani': 8.99, 'Mutton Biryani': 10.99, 'Prawn Curry': 13.49, 'Fish and Chips': 9.49, 'French Fries': 3.99, 'Garlic Bread': 4.49, 'Chocolate Brownie': 5.49, 'Vanilla Ice Cream': 3.99, 'Strawberry Shake': 4.99, 'Mango Smoothie': 5.49, 'Coca-Cola': 2.49, 'Pepsi': 2.49, 'Fresh Orange Juice': 4.99}\""
            ]
          },
          "execution_count": 114,
          "metadata": {},
          "output_type": "execute_result"
        }
      ],
      "source": [
        "menu"
      ]
    },
    {
      "cell_type": "code",
      "execution_count": 115,
      "metadata": {},
      "outputs": [],
      "source": [
        "order_dict = {\"Pepsi\": 2, \"Coca-cola\": 4}\n",
        "order_items = {}"
      ]
    },
    {
      "cell_type": "code",
      "execution_count": 120,
      "metadata": {},
      "outputs": [],
      "source": [
        "response = \"\"\n",
        "total_price = float(0.0)\n",
        "response = \"\"\n",
        "for item, quantity in order_dict.items():\n",
        "    item_lower = item.lower()\n",
        "    if item_lower in menu.lower():\n",
        "        if item_lower in order_items:\n",
        "            order_items[item_lower] += quantity  # Update quantity\n",
        "        else:\n",
        "            order_items[item_lower] = quantity  # Add new item\n",
        "        # total_price += menu[item_lower] * quantity\n",
        "        response += f\"✅ Added {quantity}x {item}.\\n\"\n",
        "    else:\n",
        "        response += f\"⚠ {item} is unavailable.\\n\""
      ]
    },
    {
      "cell_type": "code",
      "execution_count": 121,
      "metadata": {},
      "outputs": [
        {
          "data": {
            "text/plain": [
              "{'pepsi': 4, 'coca-cola': 8}"
            ]
          },
          "execution_count": 121,
          "metadata": {},
          "output_type": "execute_result"
        }
      ],
      "source": [
        "order_items"
      ]
    },
    {
      "cell_type": "code",
      "execution_count": 2,
      "metadata": {},
      "outputs": [],
      "source": [
        "item = tuple(('pepsi', 'coca-cola'))"
      ]
    },
    {
      "cell_type": "code",
      "execution_count": null,
      "metadata": {},
      "outputs": [
        {
          "ename": "TypeError",
          "evalue": "the JSON object must be str, bytes or bytearray, not dict",
          "output_type": "error",
          "traceback": [
            "\u001b[0;31m---------------------------------------------------------------------------\u001b[0m",
            "\u001b[0;31mTypeError\u001b[0m                                 Traceback (most recent call last)",
            "Cell \u001b[0;32mIn[13], line 2\u001b[0m\n\u001b[1;32m      1\u001b[0m \u001b[38;5;28;01mimport\u001b[39;00m\u001b[38;5;250m \u001b[39m\u001b[38;5;21;01mjson\u001b[39;00m\n\u001b[0;32m----> 2\u001b[0m \u001b[43mjson\u001b[49m\u001b[38;5;241;43m.\u001b[39;49m\u001b[43mloads\u001b[49m\u001b[43m(\u001b[49m\u001b[43m{\u001b[49m\u001b[38;5;124;43m\"\u001b[39;49m\u001b[38;5;124;43mold_item\u001b[39;49m\u001b[38;5;124;43m\"\u001b[39;49m\u001b[43m:\u001b[49m\u001b[43mitem\u001b[49m\u001b[43m[\u001b[49m\u001b[38;5;241;43m0\u001b[39;49m\u001b[43m]\u001b[49m\u001b[43m,\u001b[49m\u001b[43m \u001b[49m\u001b[38;5;124;43m\"\u001b[39;49m\u001b[38;5;124;43mnew_item\u001b[39;49m\u001b[38;5;124;43m\"\u001b[39;49m\u001b[43m:\u001b[49m\u001b[43mitem\u001b[49m\u001b[43m[\u001b[49m\u001b[38;5;241;43m1\u001b[39;49m\u001b[43m]\u001b[49m\u001b[43m}\u001b[49m\u001b[43m)\u001b[49m\n",
            "File \u001b[0;32m/usr/local/lib/python3.12/json/__init__.py:339\u001b[0m, in \u001b[0;36mloads\u001b[0;34m(s, cls, object_hook, parse_float, parse_int, parse_constant, object_pairs_hook, **kw)\u001b[0m\n\u001b[1;32m    337\u001b[0m \u001b[38;5;28;01melse\u001b[39;00m:\n\u001b[1;32m    338\u001b[0m     \u001b[38;5;28;01mif\u001b[39;00m \u001b[38;5;129;01mnot\u001b[39;00m \u001b[38;5;28misinstance\u001b[39m(s, (\u001b[38;5;28mbytes\u001b[39m, \u001b[38;5;28mbytearray\u001b[39m)):\n\u001b[0;32m--> 339\u001b[0m         \u001b[38;5;28;01mraise\u001b[39;00m \u001b[38;5;167;01mTypeError\u001b[39;00m(\u001b[38;5;124mf\u001b[39m\u001b[38;5;124m'\u001b[39m\u001b[38;5;124mthe JSON object must be str, bytes or bytearray, \u001b[39m\u001b[38;5;124m'\u001b[39m\n\u001b[1;32m    340\u001b[0m                         \u001b[38;5;124mf\u001b[39m\u001b[38;5;124m'\u001b[39m\u001b[38;5;124mnot \u001b[39m\u001b[38;5;132;01m{\u001b[39;00ms\u001b[38;5;241m.\u001b[39m\u001b[38;5;18m__class__\u001b[39m\u001b[38;5;241m.\u001b[39m\u001b[38;5;18m__name__\u001b[39m\u001b[38;5;132;01m}\u001b[39;00m\u001b[38;5;124m'\u001b[39m)\n\u001b[1;32m    341\u001b[0m     s \u001b[38;5;241m=\u001b[39m s\u001b[38;5;241m.\u001b[39mdecode(detect_encoding(s), \u001b[38;5;124m'\u001b[39m\u001b[38;5;124msurrogatepass\u001b[39m\u001b[38;5;124m'\u001b[39m)\n\u001b[1;32m    343\u001b[0m \u001b[38;5;28;01mif\u001b[39;00m (\u001b[38;5;28mcls\u001b[39m \u001b[38;5;129;01mis\u001b[39;00m \u001b[38;5;28;01mNone\u001b[39;00m \u001b[38;5;129;01mand\u001b[39;00m object_hook \u001b[38;5;129;01mis\u001b[39;00m \u001b[38;5;28;01mNone\u001b[39;00m \u001b[38;5;129;01mand\u001b[39;00m\n\u001b[1;32m    344\u001b[0m         parse_int \u001b[38;5;129;01mis\u001b[39;00m \u001b[38;5;28;01mNone\u001b[39;00m \u001b[38;5;129;01mand\u001b[39;00m parse_float \u001b[38;5;129;01mis\u001b[39;00m \u001b[38;5;28;01mNone\u001b[39;00m \u001b[38;5;129;01mand\u001b[39;00m\n\u001b[1;32m    345\u001b[0m         parse_constant \u001b[38;5;129;01mis\u001b[39;00m \u001b[38;5;28;01mNone\u001b[39;00m \u001b[38;5;129;01mand\u001b[39;00m object_pairs_hook \u001b[38;5;129;01mis\u001b[39;00m \u001b[38;5;28;01mNone\u001b[39;00m \u001b[38;5;129;01mand\u001b[39;00m \u001b[38;5;129;01mnot\u001b[39;00m kw):\n",
            "\u001b[0;31mTypeError\u001b[0m: the JSON object must be str, bytes or bytearray, not dict"
          ]
        }
      ],
      "source": [
        "({\"old_item\":item[0], \"new_item\":item[1]})"
      ]
    },
    {
      "cell_type": "code",
      "execution_count": null,
      "metadata": {},
      "outputs": [],
      "source": []
    }
  ],
  "metadata": {
    "colab": {
      "provenance": []
    },
    "kernelspec": {
      "display_name": "env_3_12_7",
      "language": "python",
      "name": "python3"
    },
    "language_info": {
      "codemirror_mode": {
        "name": "ipython",
        "version": 3
      },
      "file_extension": ".py",
      "mimetype": "text/x-python",
      "name": "python",
      "nbconvert_exporter": "python",
      "pygments_lexer": "ipython3",
      "version": "3.12.7"
    }
  },
  "nbformat": 4,
  "nbformat_minor": 0
}
